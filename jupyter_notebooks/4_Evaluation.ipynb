{
  "cells": [
    {
      "cell_type": "markdown",
      "metadata": {
        "id": "0aStgWSO0E0E"
      },
      "source": [
        "# **Evaluation **"
      ]
    },
    {
      "cell_type": "markdown",
      "metadata": {},
      "source": [
        "## Objectives\n",
        "\n",
        "\n",
        "## Inputs\n",
        "\n",
        "- Images are taken from the test, train, validation folders and their subfolders.  \n",
        "\n",
        "         .\n",
        "         ├── inputs   \n",
        "         │   └──datasets_devided\n",
        "         │      └──rice  \n",
        "         │           ├── test  \n",
        "         │           │   ├── Arborio  \n",
        "         │           │   ├── Basmati  \n",
        "         │           │   ├── Ipsala  \n",
        "         │           │   ├── Jasmine \n",
        "         │           │   └── Karacadag\n",
        "         │           ├── train\n",
        "         │           │   ├── Arborio  \n",
        "         │           │   ├── Basmati  \n",
        "         │           │   ├── Ipsala  \n",
        "         │           │   ├── Jasmine  \n",
        "         │           │   └── Karacadag\n",
        "         │           └── validation\n",
        "         │               ├── Arborio  \n",
        "         │               ├── Basmati  \n",
        "         │               ├── Ipsala  \n",
        "         │               ├── Jasmine  \n",
        "         │               └── Karacadag  \n",
        "         └── ...\n",
        "\n",
        "## Outputs  \n",
        "\n",
        "Generated code that "
      ]
    },
    {
      "cell_type": "markdown",
      "metadata": {
        "id": "9uWZXH9LwoQg"
      },
      "source": [
        "---"
      ]
    },
    {
      "cell_type": "markdown",
      "metadata": {},
      "source": [
        "# Import Packages"
      ]
    },
    {
      "cell_type": "code",
      "execution_count": 1,
      "metadata": {},
      "outputs": [
        {
          "name": "stdout",
          "output_type": "stream",
          "text": [
            "Requirement already satisfied: numpy in /workspace/.pyenv_mirror/fakeroot/versions/3.11.7/lib/python3.11/site-packages (from -r /workspace/Rice-Detector/requirements.txt (line 1)) (1.26.2)\n",
            "Requirement already satisfied: pandas in /workspace/.pyenv_mirror/fakeroot/versions/3.11.7/lib/python3.11/site-packages (from -r /workspace/Rice-Detector/requirements.txt (line 2)) (2.1.4)\n",
            "Requirement already satisfied: matplotlib in /workspace/.pyenv_mirror/fakeroot/versions/3.11.7/lib/python3.11/site-packages (from -r /workspace/Rice-Detector/requirements.txt (line 3)) (3.8.2)\n",
            "Requirement already satisfied: seaborn in /workspace/.pyenv_mirror/fakeroot/versions/3.11.7/lib/python3.11/site-packages (from -r /workspace/Rice-Detector/requirements.txt (line 4)) (0.13.0)\n",
            "Requirement already satisfied: plotly in /workspace/.pyenv_mirror/fakeroot/versions/3.11.7/lib/python3.11/site-packages (from -r /workspace/Rice-Detector/requirements.txt (line 5)) (5.18.0)\n",
            "Requirement already satisfied: streamlit in /workspace/.pyenv_mirror/fakeroot/versions/3.11.7/lib/python3.11/site-packages (from -r /workspace/Rice-Detector/requirements.txt (line 6)) (1.29.0)\n",
            "Requirement already satisfied: scikit-learn in /workspace/.pyenv_mirror/fakeroot/versions/3.11.7/lib/python3.11/site-packages (from -r /workspace/Rice-Detector/requirements.txt (line 7)) (1.3.2)\n",
            "Requirement already satisfied: tensorflow-cpu in /workspace/.pyenv_mirror/fakeroot/versions/3.11.7/lib/python3.11/site-packages (from -r /workspace/Rice-Detector/requirements.txt (line 8)) (2.15.0.post1)\n",
            "Requirement already satisfied: keras in /workspace/.pyenv_mirror/fakeroot/versions/3.11.7/lib/python3.11/site-packages (from -r /workspace/Rice-Detector/requirements.txt (line 9)) (2.15.0)\n",
            "Requirement already satisfied: python-dateutil>=2.8.2 in /workspace/.pyenv_mirror/user/current/lib/python3.11/site-packages (from pandas->-r /workspace/Rice-Detector/requirements.txt (line 2)) (2.8.2)\n",
            "Requirement already satisfied: pytz>=2020.1 in /workspace/.pyenv_mirror/fakeroot/versions/3.11.7/lib/python3.11/site-packages (from pandas->-r /workspace/Rice-Detector/requirements.txt (line 2)) (2023.3.post1)\n",
            "Requirement already satisfied: tzdata>=2022.1 in /workspace/.pyenv_mirror/fakeroot/versions/3.11.7/lib/python3.11/site-packages (from pandas->-r /workspace/Rice-Detector/requirements.txt (line 2)) (2023.3)\n",
            "Requirement already satisfied: contourpy>=1.0.1 in /workspace/.pyenv_mirror/fakeroot/versions/3.11.7/lib/python3.11/site-packages (from matplotlib->-r /workspace/Rice-Detector/requirements.txt (line 3)) (1.2.0)\n",
            "Requirement already satisfied: cycler>=0.10 in /workspace/.pyenv_mirror/fakeroot/versions/3.11.7/lib/python3.11/site-packages (from matplotlib->-r /workspace/Rice-Detector/requirements.txt (line 3)) (0.12.1)\n",
            "Requirement already satisfied: fonttools>=4.22.0 in /workspace/.pyenv_mirror/fakeroot/versions/3.11.7/lib/python3.11/site-packages (from matplotlib->-r /workspace/Rice-Detector/requirements.txt (line 3)) (4.47.0)\n",
            "Requirement already satisfied: kiwisolver>=1.3.1 in /workspace/.pyenv_mirror/fakeroot/versions/3.11.7/lib/python3.11/site-packages (from matplotlib->-r /workspace/Rice-Detector/requirements.txt (line 3)) (1.4.5)\n",
            "Requirement already satisfied: packaging>=20.0 in /workspace/.pyenv_mirror/user/current/lib/python3.11/site-packages (from matplotlib->-r /workspace/Rice-Detector/requirements.txt (line 3)) (23.2)\n",
            "Requirement already satisfied: pillow>=8 in /workspace/.pyenv_mirror/fakeroot/versions/3.11.7/lib/python3.11/site-packages (from matplotlib->-r /workspace/Rice-Detector/requirements.txt (line 3)) (10.1.0)\n",
            "Requirement already satisfied: pyparsing>=2.3.1 in /workspace/.pyenv_mirror/fakeroot/versions/3.11.7/lib/python3.11/site-packages (from matplotlib->-r /workspace/Rice-Detector/requirements.txt (line 3)) (3.1.1)\n",
            "Requirement already satisfied: tenacity>=6.2.0 in /workspace/.pyenv_mirror/fakeroot/versions/3.11.7/lib/python3.11/site-packages (from plotly->-r /workspace/Rice-Detector/requirements.txt (line 5)) (8.2.3)\n",
            "Requirement already satisfied: altair<6,>=4.0 in /workspace/.pyenv_mirror/fakeroot/versions/3.11.7/lib/python3.11/site-packages (from streamlit->-r /workspace/Rice-Detector/requirements.txt (line 6)) (5.2.0)\n",
            "Requirement already satisfied: blinker<2,>=1.0.0 in /workspace/.pyenv_mirror/fakeroot/versions/3.11.7/lib/python3.11/site-packages (from streamlit->-r /workspace/Rice-Detector/requirements.txt (line 6)) (1.7.0)\n",
            "Requirement already satisfied: cachetools<6,>=4.0 in /workspace/.pyenv_mirror/fakeroot/versions/3.11.7/lib/python3.11/site-packages (from streamlit->-r /workspace/Rice-Detector/requirements.txt (line 6)) (5.3.2)\n",
            "Requirement already satisfied: click<9,>=7.0 in /workspace/.pyenv_mirror/fakeroot/versions/3.11.7/lib/python3.11/site-packages (from streamlit->-r /workspace/Rice-Detector/requirements.txt (line 6)) (8.1.7)\n",
            "Requirement already satisfied: importlib-metadata<7,>=1.4 in /workspace/.pyenv_mirror/fakeroot/versions/3.11.7/lib/python3.11/site-packages (from streamlit->-r /workspace/Rice-Detector/requirements.txt (line 6)) (6.11.0)\n",
            "Requirement already satisfied: protobuf<5,>=3.20 in /workspace/.pyenv_mirror/fakeroot/versions/3.11.7/lib/python3.11/site-packages (from streamlit->-r /workspace/Rice-Detector/requirements.txt (line 6)) (4.23.4)\n",
            "Requirement already satisfied: pyarrow>=6.0 in /workspace/.pyenv_mirror/fakeroot/versions/3.11.7/lib/python3.11/site-packages (from streamlit->-r /workspace/Rice-Detector/requirements.txt (line 6)) (14.0.2)\n",
            "Requirement already satisfied: requests<3,>=2.27 in /workspace/.pyenv_mirror/fakeroot/versions/3.11.7/lib/python3.11/site-packages (from streamlit->-r /workspace/Rice-Detector/requirements.txt (line 6)) (2.31.0)\n",
            "Requirement already satisfied: rich<14,>=10.14.0 in /workspace/.pyenv_mirror/fakeroot/versions/3.11.7/lib/python3.11/site-packages (from streamlit->-r /workspace/Rice-Detector/requirements.txt (line 6)) (13.7.0)\n",
            "Requirement already satisfied: toml<2,>=0.10.1 in /workspace/.pyenv_mirror/fakeroot/versions/3.11.7/lib/python3.11/site-packages (from streamlit->-r /workspace/Rice-Detector/requirements.txt (line 6)) (0.10.2)\n",
            "Requirement already satisfied: typing-extensions<5,>=4.3.0 in /workspace/.pyenv_mirror/fakeroot/versions/3.11.7/lib/python3.11/site-packages (from streamlit->-r /workspace/Rice-Detector/requirements.txt (line 6)) (4.9.0)\n",
            "Requirement already satisfied: tzlocal<6,>=1.1 in /workspace/.pyenv_mirror/fakeroot/versions/3.11.7/lib/python3.11/site-packages (from streamlit->-r /workspace/Rice-Detector/requirements.txt (line 6)) (5.2)\n",
            "Requirement already satisfied: validators<1,>=0.2 in /workspace/.pyenv_mirror/fakeroot/versions/3.11.7/lib/python3.11/site-packages (from streamlit->-r /workspace/Rice-Detector/requirements.txt (line 6)) (0.22.0)\n",
            "Requirement already satisfied: gitpython!=3.1.19,<4,>=3.0.7 in /workspace/.pyenv_mirror/fakeroot/versions/3.11.7/lib/python3.11/site-packages (from streamlit->-r /workspace/Rice-Detector/requirements.txt (line 6)) (3.1.40)\n",
            "Requirement already satisfied: pydeck<1,>=0.8.0b4 in /workspace/.pyenv_mirror/fakeroot/versions/3.11.7/lib/python3.11/site-packages (from streamlit->-r /workspace/Rice-Detector/requirements.txt (line 6)) (0.8.1b0)\n",
            "Requirement already satisfied: tornado<7,>=6.0.3 in /workspace/.pyenv_mirror/user/current/lib/python3.11/site-packages (from streamlit->-r /workspace/Rice-Detector/requirements.txt (line 6)) (6.4)\n",
            "Requirement already satisfied: watchdog>=2.1.5 in /workspace/.pyenv_mirror/fakeroot/versions/3.11.7/lib/python3.11/site-packages (from streamlit->-r /workspace/Rice-Detector/requirements.txt (line 6)) (3.0.0)\n",
            "Requirement already satisfied: scipy>=1.5.0 in /workspace/.pyenv_mirror/fakeroot/versions/3.11.7/lib/python3.11/site-packages (from scikit-learn->-r /workspace/Rice-Detector/requirements.txt (line 7)) (1.11.4)\n",
            "Requirement already satisfied: joblib>=1.1.1 in /workspace/.pyenv_mirror/fakeroot/versions/3.11.7/lib/python3.11/site-packages (from scikit-learn->-r /workspace/Rice-Detector/requirements.txt (line 7)) (1.3.2)\n",
            "Requirement already satisfied: threadpoolctl>=2.0.0 in /workspace/.pyenv_mirror/fakeroot/versions/3.11.7/lib/python3.11/site-packages (from scikit-learn->-r /workspace/Rice-Detector/requirements.txt (line 7)) (3.2.0)\n",
            "Requirement already satisfied: absl-py>=1.0.0 in /workspace/.pyenv_mirror/fakeroot/versions/3.11.7/lib/python3.11/site-packages (from tensorflow-cpu->-r /workspace/Rice-Detector/requirements.txt (line 8)) (2.0.0)\n",
            "Requirement already satisfied: astunparse>=1.6.0 in /workspace/.pyenv_mirror/fakeroot/versions/3.11.7/lib/python3.11/site-packages (from tensorflow-cpu->-r /workspace/Rice-Detector/requirements.txt (line 8)) (1.6.3)\n",
            "Requirement already satisfied: flatbuffers>=23.5.26 in /workspace/.pyenv_mirror/fakeroot/versions/3.11.7/lib/python3.11/site-packages (from tensorflow-cpu->-r /workspace/Rice-Detector/requirements.txt (line 8)) (23.5.26)\n",
            "Requirement already satisfied: gast!=0.5.0,!=0.5.1,!=0.5.2,>=0.2.1 in /workspace/.pyenv_mirror/fakeroot/versions/3.11.7/lib/python3.11/site-packages (from tensorflow-cpu->-r /workspace/Rice-Detector/requirements.txt (line 8)) (0.5.4)\n",
            "Requirement already satisfied: google-pasta>=0.1.1 in /workspace/.pyenv_mirror/fakeroot/versions/3.11.7/lib/python3.11/site-packages (from tensorflow-cpu->-r /workspace/Rice-Detector/requirements.txt (line 8)) (0.2.0)\n",
            "Requirement already satisfied: h5py>=2.9.0 in /workspace/.pyenv_mirror/fakeroot/versions/3.11.7/lib/python3.11/site-packages (from tensorflow-cpu->-r /workspace/Rice-Detector/requirements.txt (line 8)) (3.10.0)\n",
            "Requirement already satisfied: libclang>=13.0.0 in /workspace/.pyenv_mirror/fakeroot/versions/3.11.7/lib/python3.11/site-packages (from tensorflow-cpu->-r /workspace/Rice-Detector/requirements.txt (line 8)) (16.0.6)\n",
            "Requirement already satisfied: ml-dtypes~=0.2.0 in /workspace/.pyenv_mirror/fakeroot/versions/3.11.7/lib/python3.11/site-packages (from tensorflow-cpu->-r /workspace/Rice-Detector/requirements.txt (line 8)) (0.2.0)\n",
            "Requirement already satisfied: opt-einsum>=2.3.2 in /workspace/.pyenv_mirror/fakeroot/versions/3.11.7/lib/python3.11/site-packages (from tensorflow-cpu->-r /workspace/Rice-Detector/requirements.txt (line 8)) (3.3.0)\n",
            "Requirement already satisfied: setuptools in /workspace/.pyenv_mirror/fakeroot/versions/3.11.7/lib/python3.11/site-packages (from tensorflow-cpu->-r /workspace/Rice-Detector/requirements.txt (line 8)) (65.5.0)\n",
            "Requirement already satisfied: six>=1.12.0 in /workspace/.pyenv_mirror/user/current/lib/python3.11/site-packages (from tensorflow-cpu->-r /workspace/Rice-Detector/requirements.txt (line 8)) (1.16.0)\n",
            "Requirement already satisfied: termcolor>=1.1.0 in /workspace/.pyenv_mirror/fakeroot/versions/3.11.7/lib/python3.11/site-packages (from tensorflow-cpu->-r /workspace/Rice-Detector/requirements.txt (line 8)) (2.4.0)\n",
            "Requirement already satisfied: wrapt<1.15,>=1.11.0 in /workspace/.pyenv_mirror/fakeroot/versions/3.11.7/lib/python3.11/site-packages (from tensorflow-cpu->-r /workspace/Rice-Detector/requirements.txt (line 8)) (1.14.1)\n",
            "Requirement already satisfied: tensorflow-io-gcs-filesystem>=0.23.1 in /workspace/.pyenv_mirror/fakeroot/versions/3.11.7/lib/python3.11/site-packages (from tensorflow-cpu->-r /workspace/Rice-Detector/requirements.txt (line 8)) (0.35.0)\n",
            "Requirement already satisfied: grpcio<2.0,>=1.24.3 in /workspace/.pyenv_mirror/fakeroot/versions/3.11.7/lib/python3.11/site-packages (from tensorflow-cpu->-r /workspace/Rice-Detector/requirements.txt (line 8)) (1.60.0)\n",
            "Requirement already satisfied: tensorboard<2.16,>=2.15 in /workspace/.pyenv_mirror/fakeroot/versions/3.11.7/lib/python3.11/site-packages (from tensorflow-cpu->-r /workspace/Rice-Detector/requirements.txt (line 8)) (2.15.1)\n",
            "Requirement already satisfied: tensorflow-estimator<2.16,>=2.15.0 in /workspace/.pyenv_mirror/fakeroot/versions/3.11.7/lib/python3.11/site-packages (from tensorflow-cpu->-r /workspace/Rice-Detector/requirements.txt (line 8)) (2.15.0)\n",
            "Requirement already satisfied: jinja2 in /workspace/.pyenv_mirror/fakeroot/versions/3.11.7/lib/python3.11/site-packages (from altair<6,>=4.0->streamlit->-r /workspace/Rice-Detector/requirements.txt (line 6)) (3.1.2)\n",
            "Requirement already satisfied: jsonschema>=3.0 in /workspace/.pyenv_mirror/fakeroot/versions/3.11.7/lib/python3.11/site-packages (from altair<6,>=4.0->streamlit->-r /workspace/Rice-Detector/requirements.txt (line 6)) (4.20.0)\n",
            "Requirement already satisfied: toolz in /workspace/.pyenv_mirror/fakeroot/versions/3.11.7/lib/python3.11/site-packages (from altair<6,>=4.0->streamlit->-r /workspace/Rice-Detector/requirements.txt (line 6)) (0.12.0)\n",
            "Requirement already satisfied: wheel<1.0,>=0.23.0 in /workspace/.pyenv_mirror/fakeroot/versions/3.11.7/lib/python3.11/site-packages (from astunparse>=1.6.0->tensorflow-cpu->-r /workspace/Rice-Detector/requirements.txt (line 8)) (0.42.0)\n",
            "Requirement already satisfied: gitdb<5,>=4.0.1 in /workspace/.pyenv_mirror/fakeroot/versions/3.11.7/lib/python3.11/site-packages (from gitpython!=3.1.19,<4,>=3.0.7->streamlit->-r /workspace/Rice-Detector/requirements.txt (line 6)) (4.0.11)\n",
            "Requirement already satisfied: zipp>=0.5 in /workspace/.pyenv_mirror/fakeroot/versions/3.11.7/lib/python3.11/site-packages (from importlib-metadata<7,>=1.4->streamlit->-r /workspace/Rice-Detector/requirements.txt (line 6)) (3.17.0)\n",
            "Requirement already satisfied: charset-normalizer<4,>=2 in /workspace/.pyenv_mirror/fakeroot/versions/3.11.7/lib/python3.11/site-packages (from requests<3,>=2.27->streamlit->-r /workspace/Rice-Detector/requirements.txt (line 6)) (3.3.2)\n",
            "Requirement already satisfied: idna<4,>=2.5 in /workspace/.pyenv_mirror/fakeroot/versions/3.11.7/lib/python3.11/site-packages (from requests<3,>=2.27->streamlit->-r /workspace/Rice-Detector/requirements.txt (line 6)) (3.6)\n",
            "Requirement already satisfied: urllib3<3,>=1.21.1 in /workspace/.pyenv_mirror/fakeroot/versions/3.11.7/lib/python3.11/site-packages (from requests<3,>=2.27->streamlit->-r /workspace/Rice-Detector/requirements.txt (line 6)) (2.1.0)\n",
            "Requirement already satisfied: certifi>=2017.4.17 in /workspace/.pyenv_mirror/fakeroot/versions/3.11.7/lib/python3.11/site-packages (from requests<3,>=2.27->streamlit->-r /workspace/Rice-Detector/requirements.txt (line 6)) (2023.11.17)\n",
            "Requirement already satisfied: markdown-it-py>=2.2.0 in /workspace/.pyenv_mirror/fakeroot/versions/3.11.7/lib/python3.11/site-packages (from rich<14,>=10.14.0->streamlit->-r /workspace/Rice-Detector/requirements.txt (line 6)) (3.0.0)\n",
            "Requirement already satisfied: pygments<3.0.0,>=2.13.0 in /workspace/.pyenv_mirror/user/current/lib/python3.11/site-packages (from rich<14,>=10.14.0->streamlit->-r /workspace/Rice-Detector/requirements.txt (line 6)) (2.17.2)\n",
            "Requirement already satisfied: google-auth<3,>=1.6.3 in /workspace/.pyenv_mirror/fakeroot/versions/3.11.7/lib/python3.11/site-packages (from tensorboard<2.16,>=2.15->tensorflow-cpu->-r /workspace/Rice-Detector/requirements.txt (line 8)) (2.25.2)\n",
            "Requirement already satisfied: google-auth-oauthlib<2,>=0.5 in /workspace/.pyenv_mirror/fakeroot/versions/3.11.7/lib/python3.11/site-packages (from tensorboard<2.16,>=2.15->tensorflow-cpu->-r /workspace/Rice-Detector/requirements.txt (line 8)) (1.2.0)\n",
            "Requirement already satisfied: markdown>=2.6.8 in /workspace/.pyenv_mirror/fakeroot/versions/3.11.7/lib/python3.11/site-packages (from tensorboard<2.16,>=2.15->tensorflow-cpu->-r /workspace/Rice-Detector/requirements.txt (line 8)) (3.5.1)\n",
            "Requirement already satisfied: tensorboard-data-server<0.8.0,>=0.7.0 in /workspace/.pyenv_mirror/fakeroot/versions/3.11.7/lib/python3.11/site-packages (from tensorboard<2.16,>=2.15->tensorflow-cpu->-r /workspace/Rice-Detector/requirements.txt (line 8)) (0.7.2)\n",
            "Requirement already satisfied: werkzeug>=1.0.1 in /workspace/.pyenv_mirror/fakeroot/versions/3.11.7/lib/python3.11/site-packages (from tensorboard<2.16,>=2.15->tensorflow-cpu->-r /workspace/Rice-Detector/requirements.txt (line 8)) (3.0.1)\n",
            "Requirement already satisfied: smmap<6,>=3.0.1 in /workspace/.pyenv_mirror/fakeroot/versions/3.11.7/lib/python3.11/site-packages (from gitdb<5,>=4.0.1->gitpython!=3.1.19,<4,>=3.0.7->streamlit->-r /workspace/Rice-Detector/requirements.txt (line 6)) (5.0.1)\n",
            "Requirement already satisfied: pyasn1-modules>=0.2.1 in /workspace/.pyenv_mirror/fakeroot/versions/3.11.7/lib/python3.11/site-packages (from google-auth<3,>=1.6.3->tensorboard<2.16,>=2.15->tensorflow-cpu->-r /workspace/Rice-Detector/requirements.txt (line 8)) (0.3.0)\n",
            "Requirement already satisfied: rsa<5,>=3.1.4 in /workspace/.pyenv_mirror/fakeroot/versions/3.11.7/lib/python3.11/site-packages (from google-auth<3,>=1.6.3->tensorboard<2.16,>=2.15->tensorflow-cpu->-r /workspace/Rice-Detector/requirements.txt (line 8)) (4.9)\n",
            "Requirement already satisfied: requests-oauthlib>=0.7.0 in /workspace/.pyenv_mirror/fakeroot/versions/3.11.7/lib/python3.11/site-packages (from google-auth-oauthlib<2,>=0.5->tensorboard<2.16,>=2.15->tensorflow-cpu->-r /workspace/Rice-Detector/requirements.txt (line 8)) (1.3.1)\n",
            "Requirement already satisfied: MarkupSafe>=2.0 in /workspace/.pyenv_mirror/fakeroot/versions/3.11.7/lib/python3.11/site-packages (from jinja2->altair<6,>=4.0->streamlit->-r /workspace/Rice-Detector/requirements.txt (line 6)) (2.1.3)\n",
            "Requirement already satisfied: attrs>=22.2.0 in /workspace/.pyenv_mirror/fakeroot/versions/3.11.7/lib/python3.11/site-packages (from jsonschema>=3.0->altair<6,>=4.0->streamlit->-r /workspace/Rice-Detector/requirements.txt (line 6)) (23.1.0)\n",
            "Requirement already satisfied: jsonschema-specifications>=2023.03.6 in /workspace/.pyenv_mirror/fakeroot/versions/3.11.7/lib/python3.11/site-packages (from jsonschema>=3.0->altair<6,>=4.0->streamlit->-r /workspace/Rice-Detector/requirements.txt (line 6)) (2023.12.1)\n",
            "Requirement already satisfied: referencing>=0.28.4 in /workspace/.pyenv_mirror/fakeroot/versions/3.11.7/lib/python3.11/site-packages (from jsonschema>=3.0->altair<6,>=4.0->streamlit->-r /workspace/Rice-Detector/requirements.txt (line 6)) (0.32.0)\n",
            "Requirement already satisfied: rpds-py>=0.7.1 in /workspace/.pyenv_mirror/fakeroot/versions/3.11.7/lib/python3.11/site-packages (from jsonschema>=3.0->altair<6,>=4.0->streamlit->-r /workspace/Rice-Detector/requirements.txt (line 6)) (0.16.2)\n",
            "Requirement already satisfied: mdurl~=0.1 in /workspace/.pyenv_mirror/fakeroot/versions/3.11.7/lib/python3.11/site-packages (from markdown-it-py>=2.2.0->rich<14,>=10.14.0->streamlit->-r /workspace/Rice-Detector/requirements.txt (line 6)) (0.1.2)\n",
            "Requirement already satisfied: pyasn1<0.6.0,>=0.4.6 in /workspace/.pyenv_mirror/fakeroot/versions/3.11.7/lib/python3.11/site-packages (from pyasn1-modules>=0.2.1->google-auth<3,>=1.6.3->tensorboard<2.16,>=2.15->tensorflow-cpu->-r /workspace/Rice-Detector/requirements.txt (line 8)) (0.5.1)\n",
            "Requirement already satisfied: oauthlib>=3.0.0 in /workspace/.pyenv_mirror/fakeroot/versions/3.11.7/lib/python3.11/site-packages (from requests-oauthlib>=0.7.0->google-auth-oauthlib<2,>=0.5->tensorboard<2.16,>=2.15->tensorflow-cpu->-r /workspace/Rice-Detector/requirements.txt (line 8)) (3.2.2)\n"
          ]
        }
      ],
      "source": [
        "! pip install -r /workspace/Rice-Detector/requirements.txt"
      ]
    },
    {
      "cell_type": "markdown",
      "metadata": {
        "id": "cqP-UeN-z3i2"
      },
      "source": [
        "# Change working directory"
      ]
    },
    {
      "cell_type": "markdown",
      "metadata": {
        "id": "aOGIGS-uz3i2"
      },
      "source": [
        "We store our Jupyter notebooks in a subfolder of the project. Therefore, when we run the notebooks in the editor, we need to change the working directory. This is necessary to ensure proper access to data files and other project resources that might be located outside the notebook's subfolder.\n",
        "\n",
        "We need to change the working directory from its current folder to its parent folder\n",
        "\n",
        "- To access the current working directory, we use the os.getcwd() command. "
      ]
    },
    {
      "cell_type": "code",
      "execution_count": 2,
      "metadata": {
        "id": "wZfF_j-Bz3i4",
        "outputId": "66943449-1436-4c3d-85c7-b85f9f78349b"
      },
      "outputs": [
        {
          "data": {
            "text/plain": [
              "'/workspace/Rice-Detector/jupyter_notebooks'"
            ]
          },
          "execution_count": 2,
          "metadata": {},
          "output_type": "execute_result"
        }
      ],
      "source": [
        "import os\n",
        "current_dir = os.getcwd()\n",
        "current_dir"
      ]
    },
    {
      "cell_type": "markdown",
      "metadata": {
        "id": "9MWW8E7lz3i7"
      },
      "source": [
        "Then, we change the working directory from its current folder to its parent folder to facilitate the correct file path references within our notebooks.\n",
        "\n",
        "- os.path.dirname() gets the parent directory\n",
        "- os.chir() defines the new current directory"
      ]
    },
    {
      "cell_type": "code",
      "execution_count": 3,
      "metadata": {
        "id": "TwHsQRWjz3i9",
        "outputId": "86849db3-cd2f-4cc5-ebb8-2d0caafa1a2c"
      },
      "outputs": [
        {
          "name": "stdout",
          "output_type": "stream",
          "text": [
            "You set a new current directory\n"
          ]
        }
      ],
      "source": [
        "os.chdir(os.path.dirname(current_dir))\n",
        "print(\"You set a new current directory\")"
      ]
    },
    {
      "cell_type": "markdown",
      "metadata": {
        "id": "M_xPk_Ijz3i-"
      },
      "source": [
        "Confirm the new current directory"
      ]
    },
    {
      "cell_type": "code",
      "execution_count": 4,
      "metadata": {
        "id": "vz3S-_kjz3jA",
        "outputId": "00b79ae4-75d0-4a96-d193-ac9ef9847ea2"
      },
      "outputs": [
        {
          "data": {
            "text/plain": [
              "'/workspace/Rice-Detector'"
            ]
          },
          "execution_count": 4,
          "metadata": {},
          "output_type": "execute_result"
        }
      ],
      "source": [
        "current_dir = os.getcwd()\n",
        "current_dir"
      ]
    },
    {
      "cell_type": "markdown",
      "metadata": {},
      "source": [
        "---"
      ]
    }
  ],
  "metadata": {
    "accelerator": "GPU",
    "colab": {
      "name": "Data Practitioner Jupyter Notebook.ipynb",
      "provenance": [],
      "toc_visible": true
    },
    "interpreter": {
      "hash": "8b8334dab9339717f727a1deaf837b322d7a41c20d15cc86be99a8e69ceec8ce"
    },
    "kernelspec": {
      "display_name": "Python 3.8.12 64-bit ('3.8.12': pyenv)",
      "name": "python3"
    },
    "language_info": {
      "codemirror_mode": {
        "name": "ipython",
        "version": 3
      },
      "file_extension": ".py",
      "mimetype": "text/x-python",
      "name": "python",
      "nbconvert_exporter": "python",
      "pygments_lexer": "ipython3",
      "version": "3.11.7"
    },
    "orig_nbformat": 2
  },
  "nbformat": 4,
  "nbformat_minor": 2
}
